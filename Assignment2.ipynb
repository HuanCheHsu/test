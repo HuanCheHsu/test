{
  "nbformat": 4,
  "nbformat_minor": 0,
  "metadata": {
    "colab": {
      "provenance": [],
      "collapsed_sections": []
    },
    "kernelspec": {
      "name": "python3",
      "display_name": "Python 3"
    },
    "language_info": {
      "name": "python"
    }
  },
  "cells": [
    {
      "cell_type": "code",
      "execution_count": null,
      "metadata": {
        "id": "Ug5Um72XYHzZ"
      },
      "outputs": [],
      "source": [
        "#Assignment 2\n",
        "#Author Huan-Che Hsu Student ID:216498610\n",
        "#Question1\n",
        "import numpy as np\n",
        "import random"
      ]
    },
    {
      "cell_type": "code",
      "source": [
        "matrix = np.random.randn(1000,5)\n",
        "randomRow = random.choices(matrix, k=100)\n",
        "n=2\n",
        "y=0\n",
        "randomNan = randomRow\n",
        "map(int, randomNan)\n",
        "for x in randomNan:\n",
        "  index_nan = np.random.choice(randomNan[y].size, n, replace=False)\n",
        "  randomNan[y].ravel()[index_nan] = np.nan\n",
        "  y += 1\n",
        "print(randomNan)"
      ],
      "metadata": {
        "id": "S_8gTXgcZzCm",
        "colab": {
          "base_uri": "https://localhost:8080/"
        },
        "outputId": "036e0489-5187-4ab1-a41b-791a8dea9534"
      },
      "execution_count": 13,
      "outputs": [
        {
          "output_type": "stream",
          "name": "stdout",
          "text": [
            "[array([0.44647168, 1.43468779,        nan, 0.85773831,        nan]), array([ 0.83427965,         nan,  1.04050859,         nan, -0.45709174]), array([-0.1460432 , -0.42481861, -1.19117942,         nan,         nan]), array([        nan, -1.45788438, -0.06324158,         nan, -1.50196368]), array([-0.52033292,         nan,         nan,  0.50928203,  0.25763018]), array([        nan,  0.31428077,         nan, -0.391317  ,  1.81712069]), array([-0.37121695,  1.84105497, -0.40100738,         nan,         nan]), array([        nan,         nan, -1.39813526,  0.0065984 , -0.78277781]), array([-0.32589159,         nan,  0.49226173, -1.33708114,         nan]), array([        nan,  0.37195749, -0.4217433 ,         nan, -2.23399409]), array([-0.39571504,  1.13908163,         nan, -1.47816262,         nan]), array([ 1.22641112,         nan,         nan, -0.29003389,         nan]), array([        nan,         nan, -1.05422384,  0.62723124, -0.06391998]), array([ 1.24871246,  0.54603472,         nan,         nan, -0.14673457]), array([        nan, -0.51882089,  1.36105029,  0.16974626,         nan]), array([-2.50382852,  1.16601086,         nan, -0.04973045,         nan]), array([-0.5134215 ,         nan,  1.33636059,  0.18782349,         nan]), array([-1.6683079 , -1.22710651,         nan,         nan,  0.31932759]), array([-0.05922081, -0.95060953,         nan,         nan, -0.20561128]), array([       nan, 1.7038141 , 0.24989319, 0.60868965,        nan]), array([ 0.43674102, -2.4670179 ,         nan,  1.2407782 ,         nan]), array([ 1.98181241,         nan,         nan, -1.91775283,  2.42159962]), array([        nan,  1.46876802, -0.03320388,         nan,  1.20643911]), array([        nan,         nan,  0.20074956, -0.29053587, -0.75384492]), array([        nan,         nan, -0.94696068,         nan,         nan]), array([        nan,         nan, -1.46862222, -1.40073238,  1.0099692 ]), array([        nan,  0.55951899, -1.93532823,         nan,  0.65057557]), array([-0.75340768, -2.29873974,         nan,  0.24987652,         nan]), array([-0.88069515,  1.0269465 ,         nan,         nan, -0.20543231]), array([-0.7398999 , -0.63012429,  0.34573948,         nan,         nan]), array([ 2.54313858, -1.67144978, -0.6233524 ,         nan,         nan]), array([       nan, 1.15796324, 0.69198949, 0.59649752,        nan]), array([-0.69199716,  0.31997688,         nan,         nan, -0.33687573]), array([        nan,         nan, -0.02696807,  0.5666376 , -0.29127193]), array([-1.78727711,         nan,  1.22125049,  3.10359863,         nan]), array([        nan,  1.62434129, -0.81234582,         nan, -0.12411135]), array([-0.50229834,  0.21266578,         nan,         nan,  1.49425525]), array([0.634924  ,        nan, 0.05737436,        nan, 0.81110295]), array([-1.03565211,  1.05005433,         nan,         nan, -0.00299219]), array([-1.47914435,         nan,  0.25754743,         nan,  0.66086839]), array([-1.10729668,         nan, -0.20178384,  1.58334832,         nan]), array([       nan, 0.32048076, 0.09338663,        nan, 1.24763461]), array([-0.53567484,         nan,         nan, -0.82289197, -0.6057075 ]), array([        nan,  0.19882463, -0.02813915,         nan,  0.17447811]), array([        nan,         nan,  0.29105189, -2.01151084, -0.70221849]), array([        nan, -0.07457678,         nan, -0.00376278,  0.30798067]), array([       nan, 1.13879494, 0.61472212, 0.86458338,        nan]), array([-3.23108127,         nan, -1.49378148,         nan,  1.12895703]), array([        nan, -1.39621334,         nan,  0.58796616,  0.6649515 ]), array([ 0.10174737, -1.77953791,         nan,         nan, -0.6563299 ]), array([        nan,  1.83884935, -0.12215844,         nan, -0.29320481]), array([ 0.26318296, -0.38613503,         nan, -1.43600944,         nan]), array([0.02603721, 0.45476078, 0.76563894,        nan,        nan]), array([        nan,         nan,  0.28828216, -1.99040316, -0.32600086]), array([        nan, -0.21165371,  0.75472785,         nan,  0.55924385]), array([        nan,         nan, -0.38788492,  1.06072645, -0.06452456]), array([       nan, 1.31744843, 0.40933872, 0.59731388,        nan]), array([1.192236  , 1.96661788,        nan,        nan, 0.8791042 ]), array([ 2.14530206,  0.82533681, -1.12296118,         nan,         nan]), array([ 2.1745873 ,         nan, -0.86845843,         nan,  1.39050973]), array([-0.60313912,  0.80365044, -0.84179112,         nan,         nan]), array([        nan, -1.02363211, -1.81247338,         nan, -1.79684471]), array([        nan,  0.94607076,         nan, -1.24520944,  0.98005462]), array([-0.11165753, -0.10546392,         nan,  0.70568731,         nan]), array([ 0.51270632, -0.00546363,  0.36337193,         nan,         nan]), array([0.91184804,        nan,        nan, 0.29076306, 1.14228486]), array([        nan,  0.97936346,         nan, -0.11892931,  0.56082458]), array([ 1.6685973 ,  1.23274011,         nan, -0.3587888 ,         nan]), array([        nan, -0.17222989,         nan, -1.51337005,  0.81382847]), array([0.92496913,        nan, 0.98034857,        nan, 0.17445164]), array([        nan,  1.18958701,         nan,  0.03789647, -0.58629965]), array([        nan,         nan,  0.18420341, -1.25738171, -0.36073387]), array([1.14475824,        nan, 1.04275917,        nan, 0.4383213 ]), array([        nan,  1.5540676 ,         nan, -1.99938709, -2.04644179]), array([-0.68852619,         nan,         nan, -1.73775648,  1.55507814]), array([-0.77788961,         nan,         nan,  0.27884055, -0.26534531]), array([-0.28166846,         nan, -0.01405694,         nan,  2.01049487]), array([        nan, -1.33435444,         nan,  0.00247099,  0.92637421]), array([        nan, -0.61547398,  1.56237184,  0.62422786,         nan]), array([        nan,         nan, -0.94696068,         nan,         nan]), array([ 1.22641112,         nan,         nan, -0.29003389,         nan]), array([       nan,        nan, 0.20241329, 2.75768907, 0.70970232]), array([-1.22901308,  0.35663068,  0.32867134,         nan,         nan]), array([        nan, -0.85413927,         nan, -0.85439251,  0.25503735]), array([        nan,  1.68227536, -0.4407343 ,  1.22130894,         nan]), array([-1.91753669,         nan,  1.01302083, -0.75263215,         nan]), array([        nan,         nan, -0.2079476 ,  0.28432968,  0.71574866]), array([0.23946468,        nan,        nan, 0.48717326, 1.06952751]), array([        nan, -0.0627961 ,  1.12138045,         nan,  0.48906923]), array([ 0.06857549,  0.5657904 ,         nan,         nan, -1.75992367]), array([-0.14462905,  0.69045906,  0.13684336,         nan,         nan]), array([-0.24894682,  0.3372289 ,         nan,         nan, -0.50627676]), array([ 0.44719452, -0.87252972,  0.28209973,         nan,         nan]), array([0.44647168, 1.43468779,        nan, 0.85773831,        nan]), array([ 1.42205454,         nan,         nan, -0.79334806, -0.61351714]), array([-2.03536026, -0.53842686,  1.53791765,         nan,         nan]), array([ 0.01275754, -0.71582888,  0.66747886,         nan,         nan]), array([        nan,         nan, -1.38814617,  0.621832  , -0.25690616]), array([        nan, -1.02529759,  1.07858519, -0.42554337,         nan]), array([ 0.7928363 ,         nan,  2.27251834, -0.12380719,         nan])]\n"
          ]
        }
      ]
    },
    {
      "cell_type": "code",
      "source": [
        "from sklearn.impute import KNNImputer\n",
        "import math\n",
        "def numeric(n, m):\n",
        "  numeDiff = np.sqrt(n**2+m**2).astype(int)\n",
        "  return numeDiff\n",
        "def fillKNN(X):\n",
        "  knn = KNNImputer(n_neighbors=k, add_indicator=True)\n",
        "  knn.fit(X)\n",
        "  X_new = knn.transform(X)\n",
        "  for x in X_new:\n",
        "    print(x)\n",
        "\n",
        "k=3\n",
        "print(matrix)\n",
        "fillKNN(matrix)"
      ],
      "metadata": {
        "id": "QDDc8pzO03pk"
      },
      "execution_count": null,
      "outputs": []
    },
    {
      "cell_type": "code",
      "source": [
        "from sklearn.impute import KNNImputer\n",
        "import math\n",
        "def numeric(n, m):\n",
        "  numeDiff = np.sqrt(n**2+m**2).astype(int)\n",
        "  return numeDiff\n",
        "def fillNAN(matrix):\n",
        "  for x in matrix:\n",
        "    for y in x:\n",
        "      if( y == np.nan):\n",
        "        y = 1\n",
        "    print(x)\n",
        "\n",
        "k = 3\n",
        "fillNAN(matrix)"
      ],
      "metadata": {
        "id": "1WIno6ULTa-D"
      },
      "execution_count": null,
      "outputs": []
    },
    {
      "cell_type": "code",
      "source": [
        "#Question3\n",
        "\n",
        "for x in range(10):\n",
        "  k = x+1\n",
        "  fillKNN(matrix)"
      ],
      "metadata": {
        "id": "tW7qH66jE0u-"
      },
      "execution_count": null,
      "outputs": []
    },
    {
      "cell_type": "markdown",
      "source": [
        "Even ths code did not work pretty well, but the higher the K variable is the closer the KNN variable is to mean, more over the when K is lesser than 3 the number will be more depends on the random number surround it. According to other researches, when K is equal to 1 there will be no error rate but higher the k is the higher the error will be, but on another side the lower the K value is the higher the valiadation error rate is, the closer the k variable is clsoer to 10 the lower valiadation error rate."
      ],
      "metadata": {
        "id": "4nVVxKkttJFW"
      }
    },
    {
      "cell_type": "code",
      "source": [
        "#Question4\n",
        "import pandas as pd\n",
        "import seaborn as sns\n",
        "bike_counts = pd.read_csv(\"https://bit.ly/2Cs1Mq1\")\n",
        "temp_mean = bike_counts[['temperature']].mean()\n",
        "bike_mean = bike_counts[['bikes']].mean()\n",
        "temp_median = bike_counts[['temperature']].median()\n",
        "bike_mean = bike_counts[['bikes']].median()\n",
        "temp_mode = bike_counts[['temperature']].mode()\n",
        "bike_mode = bike_counts[['bikes']].mode()\n",
        "temp_std = bike_counts[['temperature']].std()\n",
        "bike_std = bike_counts[['bikes']].std()\n",
        "temp_var = (temp_std)**2\n",
        "bike_var = (bike_std)**2\n",
        "n = len(bike_counts.index)"
      ],
      "metadata": {
        "id": "fpe0t1rXg1Su"
      },
      "execution_count": null,
      "outputs": []
    },
    {
      "cell_type": "code",
      "source": [
        "sns.boxplot(x='temperature', y='bikes', data=bike_counts)"
      ],
      "metadata": {
        "colab": {
          "base_uri": "https://localhost:8080/",
          "height": 296
        },
        "id": "ulTLn9KEIgDV",
        "outputId": "325cda08-cde4-4937-e618-39636d7965ed"
      },
      "execution_count": null,
      "outputs": [
        {
          "output_type": "execute_result",
          "data": {
            "text/plain": [
              "<matplotlib.axes._subplots.AxesSubplot at 0x7f2e44a1be50>"
            ]
          },
          "metadata": {},
          "execution_count": 44
        },
        {
          "output_type": "display_data",
          "data": {
            "text/plain": [
              "<Figure size 432x288 with 1 Axes>"
            ],
            "image/png": "[encoded data removed]"
          },
          "metadata": {
            "needs_background": "light"
          }
        }
      ]
    },
    {
      "cell_type": "code",
      "source": [
        "sns.displot(data=bike_counts, x='temperature', y='bikes')"
      ],
      "metadata": {
        "colab": {
          "base_uri": "https://localhost:8080/",
          "height": 386
        },
        "id": "dbBZLkyFJSRe",
        "outputId": "7425c35c-6218-4369-a290-e52545da02fd"
      },
      "execution_count": null,
      "outputs": [
        {
          "output_type": "execute_result",
          "data": {
            "text/plain": [
              "<seaborn.axisgrid.FacetGrid at 0x7f2e40d775d0>"
            ]
          },
          "metadata": {},
          "execution_count": 52
        },
        {
          "output_type": "display_data",
          "data": {
            "text/plain": [
              "<Figure size 360x360 with 1 Axes>"
            ],
            "image/png": "[encoded data removed]"
          },
          "metadata": {
            "needs_background": "light"
          }
        }
      ]
    },
    {
      "cell_type": "code",
      "source": [
        "from statsmodels.graphics.gofplots import qqplot \n",
        "qqnorm(bike_counts$len, pch = 1, frame = FALSE)"
      ],
      "metadata": {
        "colab": {
          "base_uri": "https://localhost:8080/",
          "height": 356
        },
        "id": "mbIXF3WeJxu_",
        "outputId": "fc2a7119-2901-440a-8c4a-fa50eb019194"
      },
      "execution_count": null,
      "outputs": [
        {
          "output_type": "error",
          "ename": "ModuleNotFoundError",
          "evalue": "ignored",
          "traceback": [
            "\u001b[0;31m---------------------------------------------------------------------------\u001b[0m",
            "\u001b[0;31mModuleNotFoundError\u001b[0m                       Traceback (most recent call last)",
            "\u001b[0;32m<ipython-input-54-3456417b3fb1>\u001b[0m in \u001b[0;36m<module>\u001b[0;34m\u001b[0m\n\u001b[1;32m      1\u001b[0m \u001b[0;32mimport\u001b[0m \u001b[0mseaborn\u001b[0m \u001b[0;32mas\u001b[0m \u001b[0msns\u001b[0m\u001b[0;34m\u001b[0m\u001b[0;34m\u001b[0m\u001b[0m\n\u001b[0;32m----> 2\u001b[0;31m \u001b[0;32mfrom\u001b[0m \u001b[0mseaborn_qqplot\u001b[0m \u001b[0;32mimport\u001b[0m \u001b[0mpplot\u001b[0m\u001b[0;34m\u001b[0m\u001b[0;34m\u001b[0m\u001b[0m\n\u001b[0m\u001b[1;32m      3\u001b[0m \u001b[0miris\u001b[0m \u001b[0;34m=\u001b[0m \u001b[0msns\u001b[0m\u001b[0;34m.\u001b[0m\u001b[0mload_dataset\u001b[0m\u001b[0;34m(\u001b[0m\u001b[0;34m'iris'\u001b[0m\u001b[0;34m)\u001b[0m\u001b[0;34m\u001b[0m\u001b[0;34m\u001b[0m\u001b[0m\n\u001b[1;32m      4\u001b[0m \u001b[0mpplot\u001b[0m\u001b[0;34m(\u001b[0m\u001b[0miris\u001b[0m\u001b[0;34m,\u001b[0m \u001b[0mx\u001b[0m\u001b[0;34m=\u001b[0m\u001b[0;34m\"temperature\"\u001b[0m\u001b[0;34m,\u001b[0m \u001b[0my\u001b[0m\u001b[0;34m=\u001b[0m\u001b[0;34m\"bikes\"\u001b[0m\u001b[0;34m,\u001b[0m \u001b[0mkind\u001b[0m\u001b[0;34m=\u001b[0m\u001b[0;34m'qq'\u001b[0m\u001b[0;34m)\u001b[0m\u001b[0;34m\u001b[0m\u001b[0;34m\u001b[0m\u001b[0m\n",
            "\u001b[0;31mModuleNotFoundError\u001b[0m: No module named 'seaborn_qqplot'",
            "",
            "\u001b[0;31m---------------------------------------------------------------------------\u001b[0;32m\nNOTE: If your import is failing due to a missing package, you can\nmanually install dependencies using either !pip or !apt.\n\nTo view examples of installing some common dependencies, click the\n\"Open Examples\" button below.\n\u001b[0;31m---------------------------------------------------------------------------\u001b[0m\n"
          ],
          "errorDetails": {
            "actions": [
              {
                "action": "open_url",
                "actionText": "Open Examples",
                "url": "/notebooks/snippets/importing_libraries.ipynb"
              }
            ]
          }
        }
      ]
    },
    {
      "cell_type": "code",
      "source": [
        "#Question5\n",
        "sns.scatterplot(data=bike_counts, x='bikes', y='temperature')"
      ],
      "metadata": {
        "colab": {
          "base_uri": "https://localhost:8080/",
          "height": 296
        },
        "id": "Zjwq4UuaS8H-",
        "outputId": "668f6087-ba30-4897-dbac-15bcdb8c1b8d"
      },
      "execution_count": null,
      "outputs": [
        {
          "output_type": "execute_result",
          "data": {
            "text/plain": [
              "<matplotlib.axes._subplots.AxesSubplot at 0x7f2e40d3acd0>"
            ]
          },
          "metadata": {},
          "execution_count": 56
        },
        {
          "output_type": "display_data",
          "data": {
            "text/plain": [
              "<Figure size 432x288 with 1 Axes>"
            ],
            "image/png": "[encoded data removed]"
          },
          "metadata": {
            "needs_background": "light"
          }
        }
      ]
    },
    {
      "cell_type": "markdown",
      "source": [
        "According to the scatterplot from bike vs temperature, that shows a relations of 10-150 daily users in different temperature, but in weathers like high temperature and comftable temperature around 18-20^ will have more bike daily users. From the graph we can tell that the lower the temperature is the lower bike activity there will be, moreover the higher the temperature is the higher bike activity there will be. "
      ],
      "metadata": {
        "id": "7ZoZxMhdTiH3"
      }
    }
  ]
}